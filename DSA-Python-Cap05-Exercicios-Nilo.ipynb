{
 "cells": [
  {
   "cell_type": "markdown",
   "metadata": {},
   "source": [
    "# <font color='blue'>Data Science Academy - Python Fundamentos - Capítulo 5</font>\n",
    "\n",
    "## Download: http://github.com/dsacademybr"
   ]
  },
  {
   "cell_type": "code",
   "execution_count": 62,
   "metadata": {},
   "outputs": [
    {
     "name": "stdout",
     "output_type": "stream",
     "text": [
      "Versão da Linguagem Python Usada Neste Jupyter Notebook: 3.7.4\n"
     ]
    }
   ],
   "source": [
    "# Versão da Linguagem Python\n",
    "from platform import python_version\n",
    "print('Versão da Linguagem Python Usada Neste Jupyter Notebook:', python_version())"
   ]
  },
  {
   "cell_type": "markdown",
   "metadata": {},
   "source": [
    "## Exercícios"
   ]
  },
  {
   "cell_type": "code",
   "execution_count": 63,
   "metadata": {},
   "outputs": [
    {
     "name": "stdout",
     "output_type": "stream",
     "text": [
      "3 5\n",
      "15 49\n"
     ]
    }
   ],
   "source": [
    "# Exercício 1 - Crie um objeto a partir da classe abaixo, chamado roc1, passando 2 parâmetros e depois faça uma chamada\n",
    "# aos atributos e métodos\n",
    "from math import sqrt\n",
    "\n",
    "class Rocket():\n",
    "     \n",
    "    def __init__(self, x=0, y=0):\n",
    "        self.x = x\n",
    "        self.y = y\n",
    "        \n",
    "    def move_rocket(self, x_increment=0, y_increment=1):\n",
    "        self.x += x_increment\n",
    "        self.y += y_increment\n",
    "        \n",
    "    def print_rocket(self):\n",
    "        print(self.x, self.y)\n",
    "        \n",
    "        \n",
    "roc1 = Rocket(x=3, y=4)\n",
    "roc1.move_rocket()\n",
    "roc1.x, roc1.y\n",
    "roc1.print_rocket()\n",
    "roc1.move_rocket(12,44)\n",
    "roc1.print_rocket()"
   ]
  },
  {
   "cell_type": "code",
   "execution_count": 36,
   "metadata": {},
   "outputs": [],
   "source": [
    "# Exercício 2 - Crie uma classe chamada Pessoa() com os atributos: nome, cidade, telefone e e-mail. Use pelo menos 2\n",
    "# métodos especiais na sua classe. Crie um objeto da sua classe e faça uma chamada a pelo menos um dos seus métodos\n",
    "# especiais.\n",
    "class Pessoa():\n",
    "    def __init__(self,nome,cidade,telefone,mail):\n",
    "        self.nome = nome\n",
    "        self.cidade = cidade\n",
    "        self.telefone = telefone\n",
    "        self.mail = mail\n",
    "        print(\"cadastrado!\")\n",
    "     \n",
    "    # retorna uma representacao de string de um objeto\n",
    "    def __str__(self):\n",
    "        return f\" nome:{self.nome} \\n cidade: {self.cidade} \\\n",
    "                \\n telefone: {self.telefone} \\n mail: {self.mail}\"\n",
    "    \n",
    "    def __add__(self,other):\n",
    "        nomecas = self.nome + other.nome\n",
    "        return nomecas\n",
    "        \n",
    "        "
   ]
  },
  {
   "cell_type": "code",
   "execution_count": 37,
   "metadata": {},
   "outputs": [
    {
     "name": "stdout",
     "output_type": "stream",
     "text": [
      "cadastrado!\n",
      "cadastrado!\n"
     ]
    }
   ],
   "source": [
    "cliente1 = Pessoa(\"Nilo\",\"RJ\",969916943,\"nilobm@gmail.com\")\n",
    "cliente2 = Pessoa(\"Fabiana\",\"BA\", 9381233,\"fabianarodsan@gmail.com\")"
   ]
  },
  {
   "cell_type": "code",
   "execution_count": 38,
   "metadata": {},
   "outputs": [
    {
     "name": "stdout",
     "output_type": "stream",
     "text": [
      " nome:Nilo \n",
      " cidade: RJ                 \n",
      " telefone: 969916943 \n",
      " mail: nilobm@gmail.com\n"
     ]
    }
   ],
   "source": [
    "# Ao exibir um objeto com print, o Python invoca o metodo str\n",
    "print(cliente1)"
   ]
  },
  {
   "cell_type": "code",
   "execution_count": 39,
   "metadata": {},
   "outputs": [
    {
     "data": {
      "text/plain": [
       "' nome:Nilo \\n cidade: RJ                 \\n telefone: 969916943 \\n mail: nilobm@gmail.com'"
      ]
     },
     "execution_count": 39,
     "metadata": {},
     "output_type": "execute_result"
    }
   ],
   "source": [
    "# O str não funciona exatamente igual que o print. \n",
    "# Isso só acontece no caso de concatenação de strings.\n",
    "str(cliente1)"
   ]
  },
  {
   "cell_type": "code",
   "execution_count": 40,
   "metadata": {},
   "outputs": [
    {
     "name": "stdout",
     "output_type": "stream",
     "text": [
      "NiloFabiana\n"
     ]
    }
   ],
   "source": [
    "# Ao aplicar o operador + a objetos, o Python invoca o metodo add\n",
    "print(cliente1 + cliente2)"
   ]
  },
  {
   "cell_type": "code",
   "execution_count": 59,
   "metadata": {},
   "outputs": [
    {
     "data": {
      "text/plain": [
       "('128GB', 'IOS')"
      ]
     },
     "execution_count": 59,
     "metadata": {},
     "output_type": "execute_result"
    }
   ],
   "source": [
    "# Exercício 3 - Crie a classe Smartphone com 2 atributos, tamanho e interface e crie a classe MP3Player com os \n",
    "# atributos capacidade. A classe MP3player deve herdar os atributos da classe Smartphone.\n",
    "\n",
    "class Smartphone():\n",
    "    \n",
    "    def __init__(self,size,interface):\n",
    "        self.size = size\n",
    "        self.interface = interface\n",
    "        \n",
    "        \n",
    "class Mp3Player(Smartphone):\n",
    "    \n",
    "    def __init__(self,size,interface,capacity):\n",
    "        super(Mp3Player,self).__init__(size,interface)\n",
    "        self.capacity = capacity\n",
    "    \n",
    "    def printMP3(self):\n",
    "        print(f\"O MP3 é de tamanho {self.capacity}, com capacidade {self.size} e interface {self.interface}\")\n",
    "    \n",
    "device0 = MP3Player(\"128GB\",\"4pulg\",\"IOS\")\n",
    "device0.capacity, device0.interface"
   ]
  },
  {
   "cell_type": "code",
   "execution_count": 57,
   "metadata": {},
   "outputs": [
    {
     "name": "stdout",
     "output_type": "stream",
     "text": [
      "O MP3 é de tamanho 128GB, com capacidade 4pulg e interface IOS\n"
     ]
    }
   ],
   "source": [
    "# O MP3Player tem acesso à classe Pai de forma amarrada.\n",
    "class Smartphone():\n",
    "    \n",
    "    def __init__(self,size,interface):\n",
    "        self.size = size\n",
    "        self.interface = interface\n",
    "        \n",
    "        \n",
    "class MP3Player(Smartphone):\n",
    "    def __init__(self,capacity, size, interface):\n",
    "        self.capacity = capacity\n",
    "        Smartphone.__init__(self,size,interface)\n",
    "        \n",
    "    def printMP3(self):\n",
    "        print(f\"O MP3 é de tamanho {self.capacity}, com capacidade {self.size} e interface {self.interface}\")\n",
    "    \n",
    "device1 = MP3Player(\"128GB\",\"4pulg\",\"IOS\")\n",
    "device1.printMP3()"
   ]
  },
  {
   "cell_type": "markdown",
   "metadata": {},
   "source": [
    "### FIM"
   ]
  },
  {
   "cell_type": "markdown",
   "metadata": {},
   "source": [
    "### Obrigado - Data Science Academy - <a href=\"http://facebook.com/dsacademybr\">facebook.com/dsacademybr</a>"
   ]
  }
 ],
 "metadata": {
  "kernelspec": {
   "display_name": "Python 3",
   "language": "python",
   "name": "python3"
  },
  "language_info": {
   "codemirror_mode": {
    "name": "ipython",
    "version": 3
   },
   "file_extension": ".py",
   "mimetype": "text/x-python",
   "name": "python",
   "nbconvert_exporter": "python",
   "pygments_lexer": "ipython3",
   "version": "3.7.4"
  }
 },
 "nbformat": 4,
 "nbformat_minor": 1
}
